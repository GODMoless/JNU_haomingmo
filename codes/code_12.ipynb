{
 "cells": [
  {
   "cell_type": "code",
   "execution_count": 1,
   "id": "e070aa44",
   "metadata": {},
   "outputs": [
    {
     "name": "stderr",
     "output_type": "stream",
     "text": [
      "Loading required package: pacman\n",
      "\n",
      "Warning message:\n",
      "\"package 'pacman' was built under R version 3.6.3\"\n"
     ]
    }
   ],
   "source": [
    "# clearing the memory\n",
    "rm(list = ls())\n",
    "\n",
    "# installing pacman\n",
    "if (require(pacman) == F) install.packages('pacman')\n",
    "library(pacman)\n",
    "\n",
    "# libraries\n",
    "p_load(caret, doParallel, kernlab, randomForest, nnet, \n",
    "       xgboost, foreach, e1071, pROC, EMP)\n",
    "\n",
    "# working directory\n",
    "cd <- 'C:/Users/PC/Fair_Credit_Scoring-main/codes'\n",
    "setwd(dirname(cd))"
   ]
  },
  {
   "cell_type": "code",
   "execution_count": 2,
   "id": "f1631a0b",
   "metadata": {},
   "outputs": [],
   "source": [
    "###################################\n",
    "#                                 \n",
    "#           PARAMETERS            \n",
    "#                                 \n",
    "###################################\n",
    "\n",
    "# paths\n",
    "source(file.path(cd, 'code_00_working_paths.R'))\n",
    "\n",
    "# data \n",
    "data <- 'taiwan'\n",
    "\n",
    "# partitioning\n",
    "num_folds <- 5\n",
    "seed      <- 1\n",
    "\n",
    "# metric bound\n",
    "roc_bound <- 0.1\n",
    "\n",
    "# options\n",
    "set.seed(seed)\n",
    "options(scipen = 10)"
   ]
  },
  {
   "cell_type": "code",
   "execution_count": 3,
   "id": "1bdc985f",
   "metadata": {},
   "outputs": [
    {
     "name": "stdout",
     "output_type": "stream",
     "text": [
      "[1] \"----------------------------------------\"\n",
      "[1] \"FOLD: 0\"\n",
      "[1] \"----------------------------------------\"\n"
     ]
    },
    {
     "name": "stderr",
     "output_type": "stream",
     "text": [
      "Setting levels: control = Bad, case = Good\n",
      "\n",
      "Setting direction: controls < cases\n",
      "\n",
      "Warning message in confusionMatrix.default(data = as.factor(class_preds), reference = as.factor(targets)):\n",
      "\"Levels are not in the same order for reference and data. Refactoring data to match.\"\n",
      "Setting levels: control = Bad, case = Good\n",
      "\n",
      "Setting direction: controls < cases\n",
      "\n",
      "Warning message in confusionMatrix.default(data = as.factor(class_preds), reference = as.factor(targets)):\n",
      "\"Levels are not in the same order for reference and data. Refactoring data to match.\"\n",
      "Setting levels: control = Bad, case = Good\n",
      "\n",
      "Setting direction: controls < cases\n",
      "\n",
      "Warning message in confusionMatrix.default(data = as.factor(class_preds), reference = as.factor(targets)):\n",
      "\"Levels are not in the same order for reference and data. Refactoring data to match.\"\n",
      "Setting levels: control = Bad, case = Good\n",
      "\n",
      "Setting direction: controls < cases\n",
      "\n",
      "Warning message in confusionMatrix.default(data = as.factor(class_preds), reference = as.factor(targets)):\n",
      "\"Levels are not in the same order for reference and data. Refactoring data to match.\"\n"
     ]
    },
    {
     "name": "stdout",
     "output_type": "stream",
     "text": [
      "[1] \"----------------------------------------\"\n",
      "[1] \"FOLD: 1\"\n",
      "[1] \"----------------------------------------\"\n"
     ]
    },
    {
     "name": "stderr",
     "output_type": "stream",
     "text": [
      "Setting levels: control = Bad, case = Good\n",
      "\n",
      "Setting direction: controls < cases\n",
      "\n",
      "Warning message in confusionMatrix.default(data = as.factor(class_preds), reference = as.factor(targets)):\n",
      "\"Levels are not in the same order for reference and data. Refactoring data to match.\"\n",
      "Setting levels: control = Bad, case = Good\n",
      "\n",
      "Setting direction: controls < cases\n",
      "\n",
      "Warning message in confusionMatrix.default(data = as.factor(class_preds), reference = as.factor(targets)):\n",
      "\"Levels are not in the same order for reference and data. Refactoring data to match.\"\n",
      "Setting levels: control = Bad, case = Good\n",
      "\n",
      "Setting direction: controls < cases\n",
      "\n",
      "Warning message in confusionMatrix.default(data = as.factor(class_preds), reference = as.factor(targets)):\n",
      "\"Levels are not in the same order for reference and data. Refactoring data to match.\"\n",
      "Setting levels: control = Bad, case = Good\n",
      "\n",
      "Setting direction: controls < cases\n",
      "\n",
      "Warning message in confusionMatrix.default(data = as.factor(class_preds), reference = as.factor(targets)):\n",
      "\"Levels are not in the same order for reference and data. Refactoring data to match.\"\n"
     ]
    },
    {
     "name": "stdout",
     "output_type": "stream",
     "text": [
      "[1] \"----------------------------------------\"\n",
      "[1] \"FOLD: 2\"\n",
      "[1] \"----------------------------------------\"\n"
     ]
    },
    {
     "name": "stderr",
     "output_type": "stream",
     "text": [
      "Setting levels: control = Bad, case = Good\n",
      "\n",
      "Setting direction: controls < cases\n",
      "\n",
      "Warning message in confusionMatrix.default(data = as.factor(class_preds), reference = as.factor(targets)):\n",
      "\"Levels are not in the same order for reference and data. Refactoring data to match.\"\n",
      "Setting levels: control = Bad, case = Good\n",
      "\n",
      "Setting direction: controls < cases\n",
      "\n",
      "Warning message in confusionMatrix.default(data = as.factor(class_preds), reference = as.factor(targets)):\n",
      "\"Levels are not in the same order for reference and data. Refactoring data to match.\"\n",
      "Setting levels: control = Bad, case = Good\n",
      "\n",
      "Setting direction: controls < cases\n",
      "\n",
      "Warning message in confusionMatrix.default(data = as.factor(class_preds), reference = as.factor(targets)):\n",
      "\"Levels are not in the same order for reference and data. Refactoring data to match.\"\n",
      "Setting levels: control = Bad, case = Good\n",
      "\n",
      "Setting direction: controls < cases\n",
      "\n",
      "Warning message in confusionMatrix.default(data = as.factor(class_preds), reference = as.factor(targets)):\n",
      "\"Levels are not in the same order for reference and data. Refactoring data to match.\"\n"
     ]
    },
    {
     "name": "stdout",
     "output_type": "stream",
     "text": [
      "[1] \"----------------------------------------\"\n",
      "[1] \"FOLD: 3\"\n",
      "[1] \"----------------------------------------\"\n"
     ]
    },
    {
     "name": "stderr",
     "output_type": "stream",
     "text": [
      "Setting levels: control = Bad, case = Good\n",
      "\n",
      "Setting direction: controls < cases\n",
      "\n",
      "Warning message in confusionMatrix.default(data = as.factor(class_preds), reference = as.factor(targets)):\n",
      "\"Levels are not in the same order for reference and data. Refactoring data to match.\"\n",
      "Setting levels: control = Bad, case = Good\n",
      "\n",
      "Setting direction: controls < cases\n",
      "\n",
      "Warning message in confusionMatrix.default(data = as.factor(class_preds), reference = as.factor(targets)):\n",
      "\"Levels are not in the same order for reference and data. Refactoring data to match.\"\n",
      "Setting levels: control = Bad, case = Good\n",
      "\n",
      "Setting direction: controls < cases\n",
      "\n",
      "Warning message in confusionMatrix.default(data = as.factor(class_preds), reference = as.factor(targets)):\n",
      "\"Levels are not in the same order for reference and data. Refactoring data to match.\"\n",
      "Setting levels: control = Bad, case = Good\n",
      "\n",
      "Setting direction: controls < cases\n",
      "\n",
      "Warning message in confusionMatrix.default(data = as.factor(class_preds), reference = as.factor(targets)):\n",
      "\"Levels are not in the same order for reference and data. Refactoring data to match.\"\n"
     ]
    },
    {
     "name": "stdout",
     "output_type": "stream",
     "text": [
      "[1] \"----------------------------------------\"\n",
      "[1] \"FOLD: 4\"\n",
      "[1] \"----------------------------------------\"\n"
     ]
    },
    {
     "name": "stderr",
     "output_type": "stream",
     "text": [
      "Setting levels: control = Bad, case = Good\n",
      "\n",
      "Setting direction: controls < cases\n",
      "\n",
      "Warning message in confusionMatrix.default(data = as.factor(class_preds), reference = as.factor(targets)):\n",
      "\"Levels are not in the same order for reference and data. Refactoring data to match.\"\n",
      "Setting levels: control = Bad, case = Good\n",
      "\n",
      "Setting direction: controls < cases\n",
      "\n",
      "Warning message in confusionMatrix.default(data = as.factor(class_preds), reference = as.factor(targets)):\n",
      "\"Levels are not in the same order for reference and data. Refactoring data to match.\"\n",
      "Setting levels: control = Bad, case = Good\n",
      "\n",
      "Setting direction: controls < cases\n",
      "\n",
      "Warning message in confusionMatrix.default(data = as.factor(class_preds), reference = as.factor(targets)):\n",
      "\"Levels are not in the same order for reference and data. Refactoring data to match.\"\n",
      "Setting levels: control = Bad, case = Good\n",
      "\n",
      "Setting direction: controls < cases\n",
      "\n",
      "Warning message in confusionMatrix.default(data = as.factor(class_preds), reference = as.factor(targets)):\n",
      "\"Levels are not in the same order for reference and data. Refactoring data to match.\"\n"
     ]
    }
   ],
   "source": [
    "##################################\n",
    "#                                \n",
    "#          MODELING      \n",
    "#                                \n",
    "##################################\n",
    "\n",
    "# helper functions\n",
    "source(file.path(func_path, '94_evaluate.R'))\n",
    "source(file.path(func_path, '95_fairness_metrics.R'))\n",
    "source(file.path(func_path, '96_emp_summary.R'))\n",
    "source(file.path(func_path, '97_caret_settings.R'))\n",
    "source(file.path(func_path, '98_param_grids.R'))\n",
    "source(file.path(func_path, '99_compute_profit.R'))\n",
    "\n",
    "# read data\n",
    "dtest_unscaled <- read.csv(file.path(data_path, 'prepared', paste0(data, '_orig_test.csv')))\n",
    "\n",
    "# factor encoding\n",
    "dtest_unscaled$TARGET <- as.factor(ifelse(dtest_unscaled$TARGET == 1, 'Good', 'Bad'))\n",
    "dtest_unscaled$AGE    <- as.factor(ifelse(dtest_unscaled$AGE == 1,    'Old',  'Young'))\n",
    "\n",
    "# modeling\n",
    "for (fold in seq(0, num_folds - 1)) {\n",
    "  \n",
    "  # feedback\n",
    "  print('----------------------------------------')\n",
    "  print(paste0('FOLD: ', fold))\n",
    "  print('----------------------------------------')\n",
    " \n",
    "  # load data and results\n",
    "  POST_results <- read.csv(file.path(res_path, 'intermediate', paste0(data, '_', fold, '_ROC_', roc_bound, '_predictions_test.csv')))\n",
    "  \n",
    "  \n",
    "  #---- TESTING ----\n",
    "  \n",
    "  # reload grids\n",
    "  source(file.path(func_path, '98_param_grids.R'))\n",
    "\n",
    "  # placeholder\n",
    "  test_results <- NULL\n",
    "  \n",
    "  # loop through base models\n",
    "  for (m in model.names) {\n",
    "    \n",
    "    # load preds and scores\n",
    "    cutoff_label <- POST_results[, paste0(m, '_fairLabels')]\n",
    "    cutoff_label <- factor(as.character(cutoff_label), levels = c('Good', 'Bad'))\n",
    "    scores       <- sapply(cutoff_label, function(x) ifelse(x == 'Good', 1, 0))\n",
    "    \n",
    "    # evaluation\n",
    "    res <- evaluate(class_preds = cutoff_label, \n",
    "                    score_preds = scores,\n",
    "                    targets     = dtest_unscaled$TARGET, \n",
    "                    amounts     = dtest_unscaled$CREDIT_AMNT, \n",
    "                    age         = dtest_unscaled$AGE,\n",
    "                    r           = 0.2644)\n",
    "    test_results <- cbind(test_results, res)\n",
    "  }  \n",
    "  \n",
    "  # save results\n",
    "  colnames(test_results) <- c(model.names)\n",
    "  write.csv(test_results, file.path(res_path, 'final', paste0(data, '_', fold, '_ROC_results.csv')), row.names = T)\n",
    "}\n"
   ]
  },
  {
   "cell_type": "code",
   "execution_count": null,
   "id": "be8cf8e0",
   "metadata": {},
   "outputs": [],
   "source": []
  }
 ],
 "metadata": {
  "kernelspec": {
   "display_name": "R",
   "language": "R",
   "name": "ir"
  },
  "language_info": {
   "codemirror_mode": "r",
   "file_extension": ".r",
   "mimetype": "text/x-r-source",
   "name": "R",
   "pygments_lexer": "r",
   "version": "3.6.1"
  }
 },
 "nbformat": 4,
 "nbformat_minor": 5
}
