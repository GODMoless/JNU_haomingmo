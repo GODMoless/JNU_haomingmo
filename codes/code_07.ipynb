{
 "cells": [
  {
   "cell_type": "code",
   "execution_count": 1,
   "id": "74937e63",
   "metadata": {},
   "outputs": [
    {
     "name": "stderr",
     "output_type": "stream",
     "text": [
      "Loading required package: pacman\n",
      "\n",
      "Warning message:\n",
      "\"package 'pacman' was built under R version 3.6.3\"\n"
     ]
    }
   ],
   "source": [
    "# clearing the memory\n",
    "rm(list = ls())\n",
    "\n",
    "# installing pacman\n",
    "if (require(pacman) == F) install.packages('pacman')\n",
    "library(pacman)\n",
    "\n",
    "# libraries\n",
    "p_load(caret, doParallel, kernlab, randomForest, nnet, \n",
    "       xgboost, foreach, e1071, pROC, EMP)\n",
    "\n",
    "# working directory\n",
    "cd <- 'C:/Users/PC/Fair_Credit_Scoring-main/codes'\n",
    "setwd(dirname(cd))"
   ]
  },
  {
   "cell_type": "code",
   "execution_count": 2,
   "id": "d62af4a8",
   "metadata": {},
   "outputs": [],
   "source": [
    "# paths\n",
    "source(file.path(cd, 'code_00_working_paths.R'))\n",
    "\n",
    "# data \n",
    "data <- 'taiwan'\n",
    "\n",
    "# partitioning\n",
    "num_folds <- 5\n",
    "seed      <- 1\n",
    "\n",
    "# adversary loss weight\n",
    "all_ad_adversary_loss_weight <- c(0.1, 0.01, 0.001)\n",
    "\n",
    "# options\n",
    "set.seed(seed)\n",
    "options(scipen = 10)"
   ]
  },
  {
   "cell_type": "code",
   "execution_count": 3,
   "id": "e99d320b",
   "metadata": {},
   "outputs": [
    {
     "name": "stdout",
     "output_type": "stream",
     "text": [
      "[1] \"----------------------------------------\"\n",
      "[1] \"FOLD: 0\"\n",
      "[1] \"----------------------------------------\"\n",
      "[1] \"- PREJUDICE REMOVER...\"\n"
     ]
    },
    {
     "name": "stderr",
     "output_type": "stream",
     "text": [
      "Setting levels: control = Bad, case = Good\n",
      "\n",
      "Setting direction: controls < cases\n",
      "\n"
     ]
    },
    {
     "name": "stdout",
     "output_type": "stream",
     "text": [
      "[1] \"- META ALGORITHM...\"\n"
     ]
    },
    {
     "name": "stderr",
     "output_type": "stream",
     "text": [
      "Setting levels: control = Bad, case = Good\n",
      "\n",
      "Setting direction: controls < cases\n",
      "\n"
     ]
    },
    {
     "name": "stdout",
     "output_type": "stream",
     "text": [
      "[1] \"- ADVERSARIAL DEBIASING...\"\n"
     ]
    },
    {
     "name": "stderr",
     "output_type": "stream",
     "text": [
      "Setting levels: control = Bad, case = Good\n",
      "\n",
      "Setting direction: controls < cases\n",
      "\n"
     ]
    },
    {
     "name": "stdout",
     "output_type": "stream",
     "text": [
      "[1] \"----------------------------------------\"\n",
      "[1] \"FOLD: 1\"\n",
      "[1] \"----------------------------------------\"\n",
      "[1] \"- PREJUDICE REMOVER...\"\n"
     ]
    },
    {
     "name": "stderr",
     "output_type": "stream",
     "text": [
      "Setting levels: control = Bad, case = Good\n",
      "\n",
      "Setting direction: controls < cases\n",
      "\n"
     ]
    },
    {
     "name": "stdout",
     "output_type": "stream",
     "text": [
      "[1] \"- META ALGORITHM...\"\n"
     ]
    },
    {
     "name": "stderr",
     "output_type": "stream",
     "text": [
      "Setting levels: control = Bad, case = Good\n",
      "\n",
      "Setting direction: controls < cases\n",
      "\n"
     ]
    },
    {
     "name": "stdout",
     "output_type": "stream",
     "text": [
      "[1] \"- ADVERSARIAL DEBIASING...\"\n"
     ]
    },
    {
     "name": "stderr",
     "output_type": "stream",
     "text": [
      "Setting levels: control = Bad, case = Good\n",
      "\n",
      "Setting direction: controls < cases\n",
      "\n"
     ]
    },
    {
     "name": "stdout",
     "output_type": "stream",
     "text": [
      "[1] \"----------------------------------------\"\n",
      "[1] \"FOLD: 2\"\n",
      "[1] \"----------------------------------------\"\n",
      "[1] \"- PREJUDICE REMOVER...\"\n"
     ]
    },
    {
     "name": "stderr",
     "output_type": "stream",
     "text": [
      "Setting levels: control = Bad, case = Good\n",
      "\n",
      "Setting direction: controls < cases\n",
      "\n"
     ]
    },
    {
     "name": "stdout",
     "output_type": "stream",
     "text": [
      "[1] \"- META ALGORITHM...\"\n"
     ]
    },
    {
     "name": "stderr",
     "output_type": "stream",
     "text": [
      "Setting levels: control = Bad, case = Good\n",
      "\n",
      "Setting direction: controls < cases\n",
      "\n"
     ]
    },
    {
     "name": "stdout",
     "output_type": "stream",
     "text": [
      "[1] \"- ADVERSARIAL DEBIASING...\"\n"
     ]
    },
    {
     "name": "stderr",
     "output_type": "stream",
     "text": [
      "Setting levels: control = Bad, case = Good\n",
      "\n",
      "Setting direction: controls < cases\n",
      "\n"
     ]
    },
    {
     "name": "stdout",
     "output_type": "stream",
     "text": [
      "[1] \"----------------------------------------\"\n",
      "[1] \"FOLD: 3\"\n",
      "[1] \"----------------------------------------\"\n",
      "[1] \"- PREJUDICE REMOVER...\"\n"
     ]
    },
    {
     "name": "stderr",
     "output_type": "stream",
     "text": [
      "Setting levels: control = Bad, case = Good\n",
      "\n",
      "Setting direction: controls < cases\n",
      "\n"
     ]
    },
    {
     "name": "stdout",
     "output_type": "stream",
     "text": [
      "[1] \"- META ALGORITHM...\"\n"
     ]
    },
    {
     "name": "stderr",
     "output_type": "stream",
     "text": [
      "Setting levels: control = Bad, case = Good\n",
      "\n",
      "Setting direction: controls < cases\n",
      "\n"
     ]
    },
    {
     "name": "stdout",
     "output_type": "stream",
     "text": [
      "[1] \"- ADVERSARIAL DEBIASING...\"\n"
     ]
    },
    {
     "name": "stderr",
     "output_type": "stream",
     "text": [
      "Setting levels: control = Bad, case = Good\n",
      "\n",
      "Setting direction: controls < cases\n",
      "\n"
     ]
    },
    {
     "name": "stdout",
     "output_type": "stream",
     "text": [
      "[1] \"----------------------------------------\"\n",
      "[1] \"FOLD: 4\"\n",
      "[1] \"----------------------------------------\"\n",
      "[1] \"- PREJUDICE REMOVER...\"\n"
     ]
    },
    {
     "name": "stderr",
     "output_type": "stream",
     "text": [
      "Setting levels: control = Bad, case = Good\n",
      "\n",
      "Setting direction: controls < cases\n",
      "\n"
     ]
    },
    {
     "name": "stdout",
     "output_type": "stream",
     "text": [
      "[1] \"- META ALGORITHM...\"\n"
     ]
    },
    {
     "name": "stderr",
     "output_type": "stream",
     "text": [
      "Setting levels: control = Bad, case = Good\n",
      "\n",
      "Setting direction: controls < cases\n",
      "\n"
     ]
    },
    {
     "name": "stdout",
     "output_type": "stream",
     "text": [
      "[1] \"- ADVERSARIAL DEBIASING...\"\n"
     ]
    },
    {
     "name": "stderr",
     "output_type": "stream",
     "text": [
      "Setting levels: control = Bad, case = Good\n",
      "\n",
      "Setting direction: controls < cases\n",
      "\n"
     ]
    }
   ],
   "source": [
    "# helper functions\n",
    "source(file.path(func_path, '94_evaluate.R'))\n",
    "source(file.path(func_path, '95_fairness_metrics.R'))\n",
    "source(file.path(func_path, '96_emp_summary.R'))\n",
    "source(file.path(func_path, '99_compute_profit.R'))\n",
    "\n",
    "# modeling\n",
    "for (fold in seq(0, num_folds - 1)) {\n",
    "  \n",
    "  # feedback\n",
    "  print('----------------------------------------')\n",
    "  print(paste0('FOLD: ', fold))\n",
    "  print('----------------------------------------')\n",
    "  \n",
    "  # read data\n",
    "  dtest          <- read.csv(file.path(data_path, 'prepared', paste0(data, '_scaled_', fold, '_test.csv')))\n",
    "  dval           <- read.csv(file.path(data_path, 'prepared', paste0(data, '_scaled_', fold, '_valid.csv')))\n",
    "  dtest_unscaled <- read.csv(file.path(data_path, 'prepared', paste0(data, '_orig_test.csv')))\n",
    "  \n",
    "  # factor encoding\n",
    "  dval$TARGET            = as.factor(ifelse(dval$TARGET  == 1,          'Good', 'Bad'))\n",
    "  dtest$TARGET           = as.factor(ifelse(dtest$TARGET == 1,          'Good', 'Bad'))\n",
    "  dtest_unscaled$TARGET  = as.factor(ifelse(dtest_unscaled$TARGET == 1, 'Good', 'Bad'))\n",
    "  dval$AGE               = as.factor(ifelse(dval$AGE  == 1,             'Old',  'Young'))\n",
    "  dtest$AGE              = as.factor(ifelse(dtest$AGE == 1,             'Old',  'Young'))\n",
    "  dtest_unscaled$AGE     = as.factor(ifelse(dtest_unscaled$AGE == 1,    'Old',  'Young'))\n",
    "\n",
    "\n",
    "  #-------------------------- PREJUDICE REMOVER ----------------------------------\n",
    "  \n",
    "  # feedback\n",
    "  print('- PREJUDICE REMOVER...')\n",
    "  \n",
    "  # load preds\n",
    "  dval_pred  <- read.csv(file.path(res_path, 'intermediate', paste0(data, '_', fold, '_PR_predictions_valid.csv')))\n",
    "  dtest_pred <- read.csv(file.path(res_path, 'intermediate', paste0(data, '_', fold, '_PR_predictions_test.csv')))\n",
    "  \n",
    "  #---- THRESHOLDING ----\n",
    "  \n",
    "  # Find optimal cutoff based on validation set\n",
    "  empVals <- NULL\n",
    "  for (col in 1:ncol(dval_pred)){\n",
    "    empVal  <- empCreditScoring(dval_pred[,col], dval$TARGET)\n",
    "    empVals <- unlist(c(empVals, empVal['EMPC']))\n",
    "  }\n",
    "  bestPrediction <- dval_pred[, which(empVals == max(empVals))[1]]\n",
    "  best_eta       <- colnames(dval_pred)[which(empVals == max(empVals))[1]]\n",
    "  \n",
    "  # Define cutoff\n",
    "  EMP    <- empCreditScoring(scores = bestPrediction, classes = dval$TARGET)\n",
    "  cutoff <- EMP$EMPCfrac\n",
    "    \n",
    "  #---- TESTING ----\n",
    "  \n",
    "  # extract preds and scores\n",
    "  pred         <- dtest_pred[, best_eta]\n",
    "  cutoff       <- quantile(pred, cutoff)\n",
    "  cutoff_label <- sapply(pred, function(x) ifelse(x > cutoff, 'Good', 'Bad'))\n",
    "  \n",
    "  # evaluation\n",
    "  res <- evaluate(class_preds = cutoff_label, \n",
    "                  score_preds = pred,\n",
    "                  targets     = dtest_unscaled$TARGET, \n",
    "                  amounts     = dtest_unscaled$CREDIT_AMNT, \n",
    "                  age         = dtest_unscaled$AGE,\n",
    "                  r           = 0.2644)\n",
    "\n",
    "  # save results\n",
    "  write.csv(res, file.path(res_path, 'final', paste0(data, '_', fold, '_PR_results.csv')), row.names = T)\n",
    "  \n",
    "  \n",
    "  #-------------------------- META ALGORITHM ----------------------------------\n",
    "\n",
    "  # feedback\n",
    "  print('- META ALGORITHM...')\n",
    "\n",
    "  # load preds\n",
    "  dval_pred  <- read.csv(file.path(res_path, 'intermediate', paste0(data, '_', fold, '_MA_predictions_valid.csv')))\n",
    "  dtest_pred <- read.csv(file.path(res_path, 'intermediate', paste0(data, '_', fold, '_MA_predictions_test.csv')))\n",
    "\n",
    "  #---- THRESHOLDING ----\n",
    "\n",
    "  # find optimal cutoff\n",
    "  empVals <- NULL\n",
    "  for (col in 1:ncol(dval_pred)){\n",
    "    empVal <- empCreditScoring(scores = dval_pred[,col], classes = dval$TARGET)\n",
    "    empVals <- unlist(c(empVals, empVal['EMPC']))\n",
    "  }\n",
    "  bestPrediction <- dval_pred[, which(empVals == max(empVals))[1]]\n",
    "  best_eta <- colnames(dval_pred)[which(empVals == max(empVals))[1]]\n",
    "\n",
    "  # define cutoff\n",
    "  EMP    <- empCreditScoring(scores = bestPrediction, classes = dval$TARGET)\n",
    "  cutoff <- EMP$EMPCfrac\n",
    "\n",
    "  #---- TESTING ----\n",
    "\n",
    "  # extract preds and scores\n",
    "  pred         <- dtest_pred[, best_eta]\n",
    "  cutoff       <- quantile(pred, cutoff)\n",
    "  cutoff_label <- sapply(pred, function(x) ifelse(x > cutoff, 'Good', 'Bad'))\n",
    "\n",
    "  # evaluation\n",
    "  res <- evaluate(class_preds = cutoff_label,\n",
    "                  score_preds = pred,\n",
    "                  targets     = dtest_unscaled$TARGET,\n",
    "                  amounts     = dtest_unscaled$CREDIT_AMNT,\n",
    "                  age         = dtest_unscaled$AGE,\n",
    "                  r           = 0.2644)\n",
    "\n",
    "  # save results\n",
    "  write.csv(res, file.path(res_path, 'final', paste0(data, '_', fold, '_MA_results.csv')), row.names = T)\n",
    "\n",
    "  \n",
    "  #-------------------------- ADVERSARIAL DEBIASING ------------------------------\n",
    "  \n",
    "  # feedback\n",
    "  print('- ADVERSARIAL DEBIASING...')\n",
    "  \n",
    "  #---- TUNING ----\n",
    "  \n",
    "  # placeholder\n",
    "  emp_dval <- NULL\n",
    "  \n",
    "  # tune meta-parameter\n",
    "  for (ad_adversary_loss_weight in all_ad_adversary_loss_weight) {\n",
    "    \n",
    "      # import preds\n",
    "      dval_pred  <- read.csv(file.path(res_path, 'intermediate', paste0(data, '_', fold, '_AD_', ad_adversary_loss_weight, '_predictions_valid.csv')))\n",
    "\n",
    "      # write EMP\n",
    "      EMP <- empCreditScoring(dval_pred[, 'scores'], 2 - dval_pred[, 'targets'])$EMPC\n",
    "      emp_dval <- rbind(emp_dval, c(as.numeric(ad_adversary_loss_weight), EMP))\n",
    "  }\n",
    "  \n",
    "  # format results\n",
    "  emp_dval <- data.frame(emp_dval)\n",
    "  colnames(emp_dval) <- c('adversary_loss_weight', 'EMP')\n",
    "  \n",
    "  # find optimal adversary loss weight\n",
    "  adversary_loss_weight <- emp_dval$adversary_loss_weight[which.max(emp_dval$EMP)]\n",
    "  \n",
    "  # import relevant preds\n",
    "  dval_pred  <- read.csv(file.path(res_path, 'intermediate', paste0(data, '_', fold, '_AD_', adversary_loss_weight, '_predictions_valid.csv')))\n",
    "  dtest_pred <- read.csv(file.path(res_path, 'intermediate', paste0(data, '_', fold, '_AD_', adversary_loss_weight, '_predictions_test.csv')))\n",
    "  \n",
    "  #---- THRESHOLDING ----\n",
    "  \n",
    "  # find optimal cutoff\n",
    "  EMP    <- empCreditScoring(dval_pred[, 'scores'], 2 - dval_pred[, 'targets'])\n",
    "  cutoff <- EMP$EMPCfrac\n",
    "  \n",
    "  #---- TESTING ----\n",
    "  \n",
    "  # extract preds and scores\n",
    "  pred         <- dtest_pred[, 'scores']\n",
    "  cutoff       <- quantile(pred, cutoff)\n",
    "  cutoff_label <- sapply(pred, function(x) ifelse(x > cutoff, 'Good', 'Bad'))\n",
    "  \n",
    "  # evaluation\n",
    "  res <- evaluate(class_preds = cutoff_label,\n",
    "                  score_preds = pred,\n",
    "                  targets     = dtest_unscaled$TARGET,\n",
    "                  amounts     = dtest_unscaled$CREDIT_AMNT,\n",
    "                  age         = dtest_unscaled$AGE,\n",
    "                  r           = 0.2644)\n",
    "  \n",
    "  # save results\n",
    "  write.csv(res, file.path(res_path, 'final', paste0(data, '_', fold, '_AD_results.csv')), row.names = T)\n",
    "}"
   ]
  },
  {
   "cell_type": "code",
   "execution_count": null,
   "id": "498cfa91",
   "metadata": {},
   "outputs": [],
   "source": []
  }
 ],
 "metadata": {
  "kernelspec": {
   "display_name": "R",
   "language": "R",
   "name": "ir"
  },
  "language_info": {
   "codemirror_mode": "r",
   "file_extension": ".r",
   "mimetype": "text/x-r-source",
   "name": "R",
   "pygments_lexer": "r",
   "version": "3.6.1"
  }
 },
 "nbformat": 4,
 "nbformat_minor": 5
}
